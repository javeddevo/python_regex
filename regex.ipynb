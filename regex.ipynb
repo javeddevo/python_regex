{
 "cells": [
  {
   "cell_type": "code",
   "execution_count": 6,
   "metadata": {},
   "outputs": [
    {
     "name": "stdout",
     "output_type": "stream",
     "text": [
      "['python1', 'python2']\n"
     ]
    }
   ],
   "source": [
    "import re\n",
    "text=\"hello python1 this is python2\"\n",
    "pat=r\"\\bpython[12]\"\n",
    "print(re.findall(pat,text))"
   ]
  },
  {
   "cell_type": "code",
   "execution_count": 7,
   "metadata": {},
   "outputs": [
    {
     "name": "stdout",
     "output_type": "stream",
     "text": [
      "['python', 'python', 'python2']\n"
     ]
    }
   ],
   "source": [
    "import re\n",
    "text=\"python this is python and python2\"\n",
    "pat=r\"python[12]?\"#? meand pattern without suffix\n",
    "print(re.findall(pat,text))"
   ]
  },
  {
   "cell_type": "code",
   "execution_count": 153,
   "metadata": {},
   "outputs": [
    {
     "name": "stdout",
     "output_type": "stream",
     "text": [
      "<re.Match object; span=(8, 14), match='python'>\n"
     ]
    }
   ],
   "source": [
    "#search looks throgh out the string  will give only the first result\n",
    "import re\n",
    "text=\"this is python this is python and python2\"\n",
    "pat=r\"python[12]?\"\n",
    "print(re.search(pat,text))"
   ]
  },
  {
   "cell_type": "code",
   "execution_count": 15,
   "metadata": {},
   "outputs": [
    {
     "name": "stdout",
     "output_type": "stream",
     "text": [
      "<re.Match object; span=(0, 3), match='hey'>\n"
     ]
    }
   ],
   "source": [
    "import re\n",
    "txt=\"hey world hey\"\n",
    "pat=\"hey\"\n",
    "print(re.search(pat,txt))"
   ]
  },
  {
   "cell_type": "code",
   "execution_count": 42,
   "metadata": {},
   "outputs": [
    {
     "name": "stdout",
     "output_type": "stream",
     "text": [
      "using finall: ['python2', 'python', 'python1']\n",
      "this is uisng seach operation: python2\n",
      "the starting index value of pattern is: 0\n",
      "the ending index pattern is: 6\n",
      "the lengthe of the the pattern is: 7\n"
     ]
    }
   ],
   "source": [
    "#difference between findall and search\n",
    "import re\n",
    "text=\"python2 this is python and python1\"\n",
    "pat=r\"python[12]?\"\n",
    "find=re.findall(pat,text)\n",
    "print(\"using finall:\",find)\n",
    "ser=re.search(pat,text)\n",
    "if ser:\n",
    "    print(\"this is uisng seach operation:\",ser.group())\n",
    "    print(\"the starting index value of pattern is:\",ser.start())\n",
    "    print(\"the ending index pattern is:\",ser.end()-1)\n",
    "    print(\"the lengthe of the the pattern is:\",ser.end()-ser.start())\n",
    "else:\n",
    "    print(\"pattern not found\")"
   ]
  },
  {
   "cell_type": "code",
   "execution_count": 46,
   "metadata": {},
   "outputs": [
    {
     "name": "stdout",
     "output_type": "stream",
     "text": [
      "this\n"
     ]
    }
   ],
   "source": [
    "#match serach for starting index\n",
    "import re\n",
    "text=\"\"\"this is python1 this is \n",
    "python and python2\"\"\"\n",
    "pat=r\"this[12]?\" #? meand pattern without suffix\n",
    "hello=re.match(pat,text)\n",
    "print(hello.group())"
   ]
  },
  {
   "cell_type": "code",
   "execution_count": 54,
   "metadata": {},
   "outputs": [
    {
     "name": "stdout",
     "output_type": "stream",
     "text": [
      "pattern: THIS\n",
      "starting index: 0\n",
      "ending index: 3\n",
      "length: 4\n"
     ]
    }
   ],
   "source": [
    "#match ignore case sensitivity\n",
    "import re\n",
    "text=\"\"\"THIS is python1 this is \n",
    "python and python2\"\"\"\n",
    "pat=r\"this[12]?\" \n",
    "hello=re.match(pat,text,re.I)#re.I flag will ignore case sensitivity\n",
    "print(\"pattern:\",hello.group())\n",
    "print(\"starting index:\",hello.start())\n",
    "print(\"ending index:\",hello.end()-1)\n",
    "print(\"length:\",hello.end()-hello.start())"
   ]
  },
  {
   "cell_type": "code",
   "execution_count": 64,
   "metadata": {},
   "outputs": [
    {
     "name": "stdout",
     "output_type": "stream",
     "text": [
      "python 0 5\n",
      "<re.Match object; span=(0, 6), match='python'>\n",
      "\n",
      "python1 10 16\n",
      "<re.Match object; span=(10, 17), match='python1'>\n",
      "\n",
      "python 26 31\n",
      "<re.Match object; span=(26, 32), match='python'>\n",
      "\n",
      "python2 37 43\n",
      "<re.Match object; span=(37, 44), match='python2'>\n",
      "\n"
     ]
    }
   ],
   "source": [
    "#finditer will give objects and gives pattern match and start and end index just same as findall\n",
    "import re\n",
    "text=\"python is python1 this is python and python2\"\n",
    "pat=r\"python[12]?\" \n",
    "hello=re.finditer(pat,text)\n",
    "for each in hello:\n",
    "    print(each.group(),each.start(),each.end()-1)\n",
    "    print(each)\n",
    "    print()\n"
   ]
  },
  {
   "cell_type": "markdown",
   "metadata": {},
   "source": [
    "# rules to create pattern\n",
    "#.a,x,p..ordinary characters\n",
    "#.[abc]-matches a or b or c\n",
    "#.[a-c]-matches aorb or c\n",
    "#.[a-zA-Z0-9]-any letter from a-z or A-Zor 0-9\n",
    "#.\\w-matches single letter or digit or _\n",
    "#.\\Wmatches any character except \\w\n",
    "#.\\d-matches digit 0-9\n",
    "#.-matches sibgle characyer except new line\n",
    "#.^ starting string  of the text\n",
    "#.$ end of the string\n",
    "#.\\b space at the end and start\n",
    "#.\\B no space at end and start\n",
    "#.{2} two times of a word\n",
    "#.{2,4) 2 or 3 or 4 of a word\n",
    "#.{2,} 2 or more\n",
    "#.+ one or more\n",
    "#.* 0 or more\n",
    "#.? 0 or 1"
   ]
  },
  {
   "cell_type": "code",
   "execution_count": 73,
   "metadata": {},
   "outputs": [
    {
     "name": "stdout",
     "output_type": "stream",
     "text": [
      "['is', 'is']\n"
     ]
    }
   ],
   "source": [
    "import re\n",
    "text=\"hey this is javeed 09\"\n",
    "patt=\"is\"\n",
    "print(re.findall(patt,text))"
   ]
  },
  {
   "cell_type": "code",
   "execution_count": 74,
   "metadata": {},
   "outputs": [
    {
     "name": "stdout",
     "output_type": "stream",
     "text": [
      "['a', 'i', 's', 'i', 's', 'a', 'i']\n"
     ]
    }
   ],
   "source": [
    "#[abc] a or b or c\n",
    "import re\n",
    "text=\"hey all this is python practice\"\n",
    "patt=\"[isa]\"\n",
    "print(re.findall(patt,text))"
   ]
  },
  {
   "cell_type": "code",
   "execution_count": 76,
   "metadata": {},
   "outputs": [
    {
     "name": "stdout",
     "output_type": "stream",
     "text": [
      "['h', 'e', 'h', 'a', 'e', 'e', 'd']\n"
     ]
    }
   ],
   "source": [
    "#[a-c]\n",
    "import re\n",
    "text=\"hey this is javeed 09\"\n",
    "patt=\"[a-h]\"\n",
    "print(re.findall(patt,text))"
   ]
  },
  {
   "cell_type": "code",
   "execution_count": 78,
   "metadata": {},
   "outputs": [
    {
     "name": "stdout",
     "output_type": "stream",
     "text": [
      "['h', 'e', 'y', 't', 'h', 'i', 's', 'i', 's', 'J', 'a', 'v', 'e', 'e', 'd']\n"
     ]
    }
   ],
   "source": [
    "#[a-zA-Z0-9]\n",
    "import re\n",
    "text=\"hey this is Javeed 09\"\n",
    "patt=\"[a-zA-Z]\"\n",
    "print(re.findall(patt,text))"
   ]
  },
  {
   "cell_type": "code",
   "execution_count": 80,
   "metadata": {},
   "outputs": [
    {
     "name": "stdout",
     "output_type": "stream",
     "text": [
      "['h', 'e', 'y', 't', 'h', 'i', 's', 'i', 's', 'j', 'a', 'v', 'e', 'e', 'd', '0', '9', '_']\n"
     ]
    }
   ],
   "source": [
    "#\\w\n",
    "import re\n",
    "text=\"hey this is javeed 09 _@\"\n",
    "patt=\"\\w\"\n",
    "print(re.findall(patt,text))"
   ]
  },
  {
   "cell_type": "code",
   "execution_count": 81,
   "metadata": {},
   "outputs": [
    {
     "name": "stdout",
     "output_type": "stream",
     "text": [
      "['he', 'th', 'is', 'is', 'ja', 've', 'ed', '09']\n"
     ]
    }
   ],
   "source": [
    "import re\n",
    "text=\"hey this is javeed 09\"\n",
    "patt=\"\\w\\w\"\n",
    "print(re.findall(patt,text))"
   ]
  },
  {
   "cell_type": "code",
   "execution_count": 83,
   "metadata": {},
   "outputs": [
    {
     "name": "stdout",
     "output_type": "stream",
     "text": [
      "[' ', ',', '@', ' ', ' ', ' ']\n"
     ]
    }
   ],
   "source": [
    "#\\W\n",
    "import re\n",
    "text=\"hey thi,@s is javeed 09\"\n",
    "patt=\"\\W\"\n",
    "print(re.findall(patt,text))"
   ]
  },
  {
   "cell_type": "code",
   "execution_count": 84,
   "metadata": {},
   "outputs": [
    {
     "name": "stdout",
     "output_type": "stream",
     "text": [
      "['0', '9']\n"
     ]
    }
   ],
   "source": [
    "#\\d only digit\n",
    "text=\"hey this is javeed 09\"\n",
    "patt=\"\\d\"\n",
    "print(re.findall(patt,text))"
   ]
  },
  {
   "cell_type": "code",
   "execution_count": 87,
   "metadata": {},
   "outputs": [
    {
     "name": "stdout",
     "output_type": "stream",
     "text": [
      "['python2']\n"
     ]
    }
   ],
   "source": [
    "text=\"hey this is javeed python2\"\n",
    "patt=\"python\\d\"\n",
    "print(re.findall(patt,text))"
   ]
  },
  {
   "cell_type": "code",
   "execution_count": 4,
   "metadata": {},
   "outputs": [
    {
     "name": "stdout",
     "output_type": "stream",
     "text": [
      "['h', 'e', 'y', ' ', 't', 'h', 'i', 's', ' ', 'i', 's', ' ', 'j', 'a', 'v', 'e', 'e', 'd', ' ', 'p', 'y', 't', 'h', 'o', 'n']\n"
     ]
    }
   ],
   "source": [
    "# D not numbers\n",
    "import re\n",
    "text=\"hey this is javeed python2\"\n",
    "patt=\"\\D\"\n",
    "print(re.findall(patt,text))"
   ]
  },
  {
   "cell_type": "code",
   "execution_count": 89,
   "metadata": {},
   "outputs": [
    {
     "name": "stdout",
     "output_type": "stream",
     "text": [
      "['python09']\n"
     ]
    }
   ],
   "source": [
    "text=\"hey this is javeed python09\"\n",
    "patt=\"python\\d\\d\"\n",
    "print(re.findall(patt,text))"
   ]
  },
  {
   "cell_type": "code",
   "execution_count": 5,
   "metadata": {},
   "outputs": [
    {
     "name": "stdout",
     "output_type": "stream",
     "text": [
      "[' ', ' ', ' ', ' ']\n"
     ]
    }
   ],
   "source": [
    "# s space tab newline\n",
    "import re\n",
    "text=\"hey this is javeed python09\"\n",
    "patt=\"\\s\"\n",
    "print(re.findall(patt,text))"
   ]
  },
  {
   "cell_type": "code",
   "execution_count": 96,
   "metadata": {},
   "outputs": [
    {
     "name": "stdout",
     "output_type": "stream",
     "text": [
      "['233.234.234']\n"
     ]
    }
   ],
   "source": [
    "# . everthong except new line\n",
    "import re\n",
    "text=\"hey this is python 233.234.234\"\n",
    "patt=\"\\d\\d\\d\\.\\d\\d\\d\\.\\d\\d\\d\"\n",
    "print(re.findall(patt,text))"
   ]
  },
  {
   "cell_type": "code",
   "execution_count": 95,
   "metadata": {},
   "outputs": [
    {
     "name": "stdout",
     "output_type": "stream",
     "text": [
      "['.']\n"
     ]
    }
   ],
   "source": [
    "# to match . with .\n",
    "import re\n",
    "text=\"hey this is javeed 0.9\"\n",
    "patt=\"\\.\"\n",
    "print(re.findall(patt,text))"
   ]
  },
  {
   "cell_type": "code",
   "execution_count": 103,
   "metadata": {},
   "outputs": [
    {
     "name": "stdout",
     "output_type": "stream",
     "text": [
      "['hey']\n"
     ]
    }
   ],
   "source": [
    "# ^\n",
    "import re\n",
    "text=\"hey this is javeed 09\"\n",
    "patt=\"^hey\"\n",
    "print(re.findall(patt,text))"
   ]
  },
  {
   "cell_type": "code",
   "execution_count": 109,
   "metadata": {},
   "outputs": [
    {
     "name": "stdout",
     "output_type": "stream",
     "text": [
      "['hey']\n"
     ]
    }
   ],
   "source": [
    "# $\n",
    "import re\n",
    "text=\"hellohey this is javeed 09 hey\"\n",
    "patt=\"hey$\"\n",
    "print(re.findall(patt,text))"
   ]
  },
  {
   "cell_type": "code",
   "execution_count": 112,
   "metadata": {},
   "outputs": [
    {
     "name": "stdout",
     "output_type": "stream",
     "text": [
      "['is', 'is']\n"
     ]
    }
   ],
   "source": [
    "# \\b space\n",
    "text=\"hey this is javeed is09  is\"\n",
    "patt=r\"\\bis\\b\"\n",
    "print(re.findall(patt,text))"
   ]
  },
  {
   "cell_type": "code",
   "execution_count": 116,
   "metadata": {},
   "outputs": [
    {
     "name": "stdout",
     "output_type": "stream",
     "text": [
      "['is']\n"
     ]
    }
   ],
   "source": [
    "#\\B\n",
    "text=\"hey this javiseed 09\"\n",
    "patt=\"\\Bis\\B\"\n",
    "print(re.findall(patt,text))"
   ]
  },
  {
   "cell_type": "code",
   "execution_count": 117,
   "metadata": {},
   "outputs": [
    {
     "name": "stdout",
     "output_type": "stream",
     "text": [
      "['javeed']\n"
     ]
    }
   ],
   "source": [
    "# {2} exactly two times \n",
    "import re\n",
    "text=\"hey this is javeed 09\"\n",
    "patt=\"jave{2}d\"# here e two times can be written as e{2}\n",
    "print(re.findall(patt,text))"
   ]
  },
  {
   "cell_type": "code",
   "execution_count": 119,
   "metadata": {},
   "outputs": [
    {
     "name": "stdout",
     "output_type": "stream",
     "text": [
      "['javeed', 'javeeeeed']\n"
     ]
    }
   ],
   "source": [
    "#{2,4}\n",
    "import re\n",
    "text=\"hey this is javeed 09 javeeeeed javeeeeeeeeed\"\n",
    "patt=\"jave{2,5}d\"\n",
    "print(re.findall(patt,text))"
   ]
  },
  {
   "cell_type": "code",
   "execution_count": 122,
   "metadata": {},
   "outputs": [
    {
     "name": "stdout",
     "output_type": "stream",
     "text": [
      "['javeed', 'javeeeeeeed', 'javeeeeeeeeeeeed']\n"
     ]
    }
   ],
   "source": [
    "#{2,} two or more\n",
    "import re\n",
    "text=\"hey this is javeed 09 javeeeeeeed javeeeeeeeeeeeed\"\n",
    "patt=\"jave{2,}d\"\n",
    "print(re.findall(patt,text))"
   ]
  },
  {
   "cell_type": "code",
   "execution_count": 123,
   "metadata": {},
   "outputs": [
    {
     "name": "stdout",
     "output_type": "stream",
     "text": [
      "['javed', 'javeed', 'javeeeed', 'javeed', 'javeeeeeeeeeeeeeeeeeed']\n"
     ]
    }
   ],
   "source": [
    "# (+) one or more\n",
    "import re\n",
    "text=\"hey this javed is javeed 09javeeeed javeed javeeeeeeeeeeeeeeeeeed\"\n",
    "patt=\"jave+d\"\n",
    "print(re.findall(patt,text))\n"
   ]
  },
  {
   "cell_type": "code",
   "execution_count": 124,
   "metadata": {},
   "outputs": [
    {
     "name": "stdout",
     "output_type": "stream",
     "text": [
      "['javeed', 'javeeeeeed', 'javd']\n"
     ]
    }
   ],
   "source": [
    "# * 0 or more\n",
    "import re\n",
    "text=\"hey this is javeed 09 javeeeeeed javd\"\n",
    "patt=\"jave*d\"\n",
    "print(re.findall(patt,text))"
   ]
  },
  {
   "cell_type": "code",
   "execution_count": 125,
   "metadata": {},
   "outputs": [
    {
     "name": "stdout",
     "output_type": "stream",
     "text": [
      "['javd', 'javed']\n"
     ]
    }
   ],
   "source": [
    "# ? one time or zero time\n",
    "import re\n",
    "text=\"hey this is javeed 09 javeed javd javed\"\n",
    "patt=\"jave?d\"\n",
    "print(re.findall(patt,text))"
   ]
  },
  {
   "cell_type": "markdown",
   "metadata": {},
   "source": [
    "# flags"
   ]
  },
  {
   "cell_type": "code",
   "execution_count": 126,
   "metadata": {},
   "outputs": [
    {
     "name": "stdout",
     "output_type": "stream",
     "text": [
      "['hey', 'HeY']\n"
     ]
    }
   ],
   "source": [
    "#re.I for case sensitive\n",
    "import re\n",
    "text=\"hey this is javeed 09  HeY\"\n",
    "patt=\"hey\"\n",
    "print(re.findall(patt,text,re.I))"
   ]
  },
  {
   "cell_type": "code",
   "execution_count": 129,
   "metadata": {},
   "outputs": [
    {
     "name": "stdout",
     "output_type": "stream",
     "text": [
      "['Is', 'is', 'is', 'is', 'is']\n"
     ]
    }
   ],
   "source": [
    "import re\n",
    "text=\"\"\"hey thIs is javeed 09\n",
    "this is javeed is\"\"\"\n",
    "patt=\"is\"\n",
    "print(re.findall(patt,text,re.I))"
   ]
  },
  {
   "cell_type": "code",
   "execution_count": 135,
   "metadata": {},
   "outputs": [
    {
     "name": "stdout",
     "output_type": "stream",
     "text": [
      "['Is', 'is']\n"
     ]
    }
   ],
   "source": [
    "#re.M\n",
    "import re\n",
    "text=\"\"\"hey this IS javeed 09 Is\n",
    "is the world is\"\"\"\n",
    "patt=\"is$\"\n",
    "print(re.findall(patt,text,re.M|re.I))"
   ]
  },
  {
   "cell_type": "markdown",
   "metadata": {},
   "source": [
    "# split  sub and subn"
   ]
  },
  {
   "cell_type": "code",
   "execution_count": 136,
   "metadata": {},
   "outputs": [
    {
     "name": "stdout",
     "output_type": "stream",
     "text": [
      "Help on function split in module re:\n",
      "\n",
      "split(pattern, string, maxsplit=0, flags=0)\n",
      "    Split the source string by the occurrences of the pattern,\n",
      "    returning a list containing the resulting substrings.  If\n",
      "    capturing parentheses are used in pattern, then the text of all\n",
      "    groups in the pattern are also returned as part of the resulting\n",
      "    list.  If maxsplit is nonzero, at most maxsplit splits occur,\n",
      "    and the remainder of the string is returned as the final element\n",
      "    of the list.\n",
      "\n"
     ]
    }
   ],
   "source": [
    "import re\n",
    "help(re.split)"
   ]
  },
  {
   "cell_type": "code",
   "execution_count": 145,
   "metadata": {},
   "outputs": [
    {
     "name": "stdout",
     "output_type": "stream",
     "text": [
      "['hey th', ' ', ' javeed 09 hello this IS a thor']\n"
     ]
    }
   ],
   "source": [
    "import re\n",
    "text=\"hey this is javeed 09 hello this IS a thor\"\n",
    "patt=\"is\"\n",
    "print(re.split(patt,text,maxsplit=2,flags=re.I))"
   ]
  },
  {
   "cell_type": "code",
   "execution_count": 146,
   "metadata": {},
   "outputs": [
    {
     "name": "stdout",
     "output_type": "stream",
     "text": [
      "Help on function sub in module re:\n",
      "\n",
      "sub(pattern, repl, string, count=0, flags=0)\n",
      "    Return the string obtained by replacing the leftmost\n",
      "    non-overlapping occurrences of the pattern in string by the\n",
      "    replacement repl.  repl can be either a string or a callable;\n",
      "    if a string, backslash escapes in it are processed.  If it is\n",
      "    a callable, it's passed the Match object and must return\n",
      "    a replacement string to be used.\n",
      "\n"
     ]
    }
   ],
   "source": [
    "# sub\n",
    "import re\n",
    "help(re.sub)"
   ]
  },
  {
   "cell_type": "code",
   "execution_count": 148,
   "metadata": {},
   "outputs": [
    {
     "name": "stdout",
     "output_type": "stream",
     "text": [
      "jython is a jython and jython\n"
     ]
    }
   ],
   "source": [
    "import re\n",
    "text=\"python is a python1 and python2\"\n",
    "patt=\"is\"\n",
    "print(re.sub(pat,\"jython\",text,flags=re.I))"
   ]
  },
  {
   "cell_type": "code",
   "execution_count": 150,
   "metadata": {},
   "outputs": [
    {
     "name": "stdout",
     "output_type": "stream",
     "text": [
      "jython is a python1 and python2\n"
     ]
    }
   ],
   "source": [
    "import re\n",
    "text=\"python is a python1 and python2\"\n",
    "patt=\"is\"\n",
    "print(re.sub(pat,\"jython\",text,count=1,flags=re.I))"
   ]
  },
  {
   "cell_type": "code",
   "execution_count": 152,
   "metadata": {},
   "outputs": [
    {
     "name": "stdout",
     "output_type": "stream",
     "text": [
      "('jython is a python1 and python2', 1)\n"
     ]
    }
   ],
   "source": [
    "import re\n",
    "text=\"python is a python1 and python2\"\n",
    "patt=\"is\"\n",
    "print(re.subn(pat,\"jython\",text,count=1,flags=re.I))"
   ]
  },
  {
   "cell_type": "markdown",
   "metadata": {},
   "source": [
    "# compile"
   ]
  },
  {
   "cell_type": "code",
   "execution_count": 158,
   "metadata": {},
   "outputs": [
    {
     "name": "stdout",
     "output_type": "stream",
     "text": [
      "<re.Match object; span=(0, 6), match='python'>\n"
     ]
    }
   ],
   "source": [
    "import re\n",
    "text=\"python is a python1 and python2\"\n",
    "patt=r\"\\bpython[12]?\\b\"\n",
    "obj=re.compile(patt)\n",
    "print(obj.search(text))"
   ]
  },
  {
   "cell_type": "code",
   "execution_count": 9,
   "metadata": {},
   "outputs": [
    {
     "name": "stdout",
     "output_type": "stream",
     "text": [
      "['919030170201', '9020170201']\n"
     ]
    }
   ],
   "source": [
    "import re\n",
    "text=\"\"\"hello i am +919030170201\n",
    "i my no is 9020170201\"\"\"\n",
    "pat=\"\\d+\"\n",
    "print(re.findall(pat,text))\n"
   ]
  },
  {
   "cell_type": "code",
   "execution_count": 45,
   "metadata": {},
   "outputs": [],
   "source": [
    "a=[\"hello world di is 345\",\"hey did 40404 8904 jfif\"]\n",
    "fo=open(\"hello.txt\",\"w\")\n",
    "for each in a:\n",
    "    fo.writelines(each+\"\\n\")\n",
    "fo.close()"
   ]
  },
  {
   "cell_type": "code",
   "execution_count": 80,
   "metadata": {},
   "outputs": [
    {
     "name": "stdout",
     "output_type": "stream",
     "text": [
      "hello world di is 345\n",
      "hey did 40404 8904 jfif\n",
      "\n"
     ]
    }
   ],
   "source": [
    "fo=open(\"hello.txt\",\"r\")\n",
    "hey=fo.read()\n",
    "fo.close()\n",
    "print(hey)\n",
    "pat=\"\\d{1,}\"\n",
    "res=re.findall(pat,hey)\n",
    "fo=open(\"pat.txt\",\"w\")\n",
    "for each in res:\n",
    "    fo.write(each+\"\\n\")\n",
    "fo.close()"
   ]
  },
  {
   "cell_type": "code",
   "execution_count": 83,
   "metadata": {},
   "outputs": [
    {
     "name": "stdout",
     "output_type": "stream",
     "text": [
      "345\n",
      "40404\n",
      "8904\n",
      "\n"
     ]
    }
   ],
   "source": [
    "fo=open(\"pat.txt\",\"r\")\n",
    "k=fo.read()\n",
    "fo.close()\n",
    "print(k)"
   ]
  },
  {
   "cell_type": "code",
   "execution_count": 96,
   "metadata": {},
   "outputs": [
    {
     "name": "stdout",
     "output_type": "stream",
     "text": [
      "['200000', '10000']\n"
     ]
    }
   ],
   "source": [
    "# find dates or numbers\n",
    "a=\"hello 200000-23-11 334-22,45 hue hello  10000.33.33\"\n",
    "#pat=\"\\d\\d\\d[.-]\\d\\d[.-]\\d\\d\"\n",
    "pat=\"[12]0{3,}\"\n",
    "\n",
    "res=re.finditer(pat,a)\n",
    "b=[]\n",
    "for each in res:\n",
    "    b.append(each.group())\n",
    "print(b)"
   ]
  },
  {
   "cell_type": "code",
   "execution_count": 124,
   "metadata": {},
   "outputs": [
    {
     "name": "stdout",
     "output_type": "stream",
     "text": [
      "['mr Javeed', 'ms. javeed', 'mrs. Tarun']\n"
     ]
    }
   ],
   "source": [
    "a=\"\"\"mr Javeed has paid 10,000\n",
    "ms. javeed  has paid 2,000\n",
    "mrs. Tarun has paid 40,000\n",
    "\"\"\"\n",
    "pat=r\"m[rs]*\\.?\\s[a-zA-Z]\\w*\"\n",
    "k=re.findall(pat,a)\n",
    "print(k)"
   ]
  },
  {
   "cell_type": "code",
   "execution_count": 145,
   "metadata": {},
   "outputs": [
    {
     "name": "stdout",
     "output_type": "stream",
     "text": [
      "javeedabdul9@gmail.com\n",
      "Hello.ram@gmail.edu\n",
      "uni.23@gmail.com\n",
      "jk-@gmail.com\n"
     ]
    }
   ],
   "source": [
    "#emails\n",
    "a=\"\"\"javeedabdul9@gmail.com\n",
    "Hello.ram@gmail.edu\n",
    "uni.23@gmail.com\n",
    "jk-@gmail.com\n",
    "\"\"\"\n",
    "pat=r\"[a-zA-Z0-9\\.-]+@[a-z]+\\.(com|edu)\"\n",
    "k=re.finditer(pat,a)\n",
    "for each in k:\n",
    "    print(each.group())"
   ]
  },
  {
   "cell_type": "code",
   "execution_count": 157,
   "metadata": {},
   "outputs": [
    {
     "name": "stdout",
     "output_type": "stream",
     "text": [
      "https:\\www.gmail.com\n",
      "http:\\helloworld.edu\n",
      "https:\\heey.com\n"
     ]
    }
   ],
   "source": [
    "a=\"\"\"\n",
    "https:\\\\www.gmail.com\n",
    "http:\\\\helloworld.edu\n",
    "https:\\\\heey.com\"\"\"\n",
    "pat=r\"https?:\\\\(www\\.)?\\w+\\.[a-zA-Z0-9]+\"\n",
    "res=re.finditer(pat,a)\n",
    "for each in res:\n",
    "    print(each.group())"
   ]
  },
  {
   "cell_type": "code",
   "execution_count": 166,
   "metadata": {},
   "outputs": [
    {
     "name": "stdout",
     "output_type": "stream",
     "text": [
      "['com', 'edu', 'com']\n"
     ]
    }
   ],
   "source": [
    "#() worksin finall () will give only which is in ()\n",
    "a=\"\"\"\n",
    "gmail.com\n",
    "helloworld.edu\n",
    "heey.com\"\"\"\n",
    "pat=r\"\\w+\\.(\\w+)\"\n",
    "res=re.findall(pat,a)\n",
    "print(res)"
   ]
  },
  {
   "cell_type": "code",
   "execution_count": null,
   "metadata": {},
   "outputs": [],
   "source": []
  }
 ],
 "metadata": {
  "kernelspec": {
   "display_name": "Python 3",
   "language": "python",
   "name": "python3"
  },
  "language_info": {
   "codemirror_mode": {
    "name": "ipython",
    "version": 3
   },
   "file_extension": ".py",
   "mimetype": "text/x-python",
   "name": "python",
   "nbconvert_exporter": "python",
   "pygments_lexer": "ipython3",
   "version": "3.8.2"
  }
 },
 "nbformat": 4,
 "nbformat_minor": 4
}
